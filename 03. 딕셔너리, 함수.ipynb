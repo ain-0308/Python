{
 "cells": [
  {
   "cell_type": "markdown",
   "id": "c30a042b-504d-41af-aefb-e9b77272082e",
   "metadata": {},
   "source": [
    "### 딕셔너리 (dictionary)\n",
    "- 파이썬에서 제공되는 자료형 중 하나\n",
    "- 말 그대로 사전\n",
    "- 표현법 : { key:value, key:value ,.....}\n",
    "- 각각의 속성이나 개성을 표현할 때 딕셔너리 활용\n",
    "- 순서가 없는 객체의 집합"
   ]
  },
  {
   "cell_type": "code",
   "execution_count": 3,
   "id": "f83430c7-ab2c-4494-931b-1ddbd304e6cb",
   "metadata": {},
   "outputs": [
    {
     "data": {
      "text/plain": [
       "{'key': 'value', 'name': 'AI', 'age': 100, 'phone': '010-9876-5432'}"
      ]
     },
     "execution_count": 3,
     "metadata": {},
     "output_type": "execute_result"
    }
   ],
   "source": [
    "#dict() # <- 형변환 함수\n",
    "dict1 = {\"key\":\"value\", \"name\":\"AI\", \"age\":100, \"phone\":\"010-9876-5432\"}\n",
    "dict1"
   ]
  },
  {
   "cell_type": "code",
   "execution_count": 4,
   "id": "86d0cf0e-84ab-476e-9323-4f5c8c89f075",
   "metadata": {},
   "outputs": [
    {
     "data": {
      "text/plain": [
       "{'key': 'value',\n",
       " 'name': 'AI',\n",
       " 'age': 100,\n",
       " 'phone': '010-9876-5432',\n",
       " 'birth': '12/21'}"
      ]
     },
     "execution_count": 4,
     "metadata": {},
     "output_type": "execute_result"
    }
   ],
   "source": [
    "# 추가 : 없는 key값을 지정(인덱싱)하고 대입\n",
    "dict1[\"birth\"] = \"12/21\" # dict1 에 key와 value 추가\n",
    "dict1"
   ]
  },
  {
   "cell_type": "code",
   "execution_count": 5,
   "id": "b75fad1e-c20b-414d-8cb5-32c7169e24a6",
   "metadata": {},
   "outputs": [
    {
     "data": {
      "text/plain": [
       "{'key': 'value',\n",
       " 'name': 'AI',\n",
       " 'age': 100,\n",
       " 'phone': '010-2222-2222',\n",
       " 'birth': '12/21'}"
      ]
     },
     "execution_count": 5,
     "metadata": {},
     "output_type": "execute_result"
    }
   ],
   "source": [
    "# 수정 : 있는 key값을 지정(인덱싱)하고 대입\n",
    "dict1[\"phone\"] = \"010-2222-2222\" # phone 이라는 key를 지정하고 그 안에 value값을 수정\n",
    "dict1"
   ]
  },
  {
   "cell_type": "code",
   "execution_count": 6,
   "id": "0b47695f-3e76-4d7f-85fc-62c642e240ea",
   "metadata": {},
   "outputs": [
    {
     "data": {
      "text/plain": [
       "{'key': 'value', 'name': 'AI', 'age': 100, 'phone': '010-2222-2222'}"
      ]
     },
     "execution_count": 6,
     "metadata": {},
     "output_type": "execute_result"
    }
   ],
   "source": [
    "# 삭제 : del 인덱스 번호대신 키값으로 지정\n",
    "del dict1[\"birth\"]\n",
    "dict1"
   ]
  },
  {
   "cell_type": "code",
   "execution_count": 7,
   "id": "88915b74-80f4-4744-914a-6808d0191498",
   "metadata": {},
   "outputs": [
    {
     "data": {
      "text/plain": [
       "'AI'"
      ]
     },
     "execution_count": 7,
     "metadata": {},
     "output_type": "execute_result"
    }
   ],
   "source": [
    "# 인덱싱\n",
    "dict1[\"name\"]"
   ]
  },
  {
   "cell_type": "code",
   "execution_count": 8,
   "id": "e8b239ae",
   "metadata": {},
   "outputs": [
    {
     "data": {
      "text/plain": [
       "'AI'"
      ]
     },
     "execution_count": 8,
     "metadata": {},
     "output_type": "execute_result"
    }
   ],
   "source": [
    "# get()함수\n",
    "dict1.get('name')"
   ]
  },
  {
   "cell_type": "code",
   "execution_count": 9,
   "id": "8557c66a-8bda-4650-a5ea-ef596241386c",
   "metadata": {},
   "outputs": [
    {
     "data": {
      "text/plain": [
       "dict_keys(['key', 'name', 'age', 'phone'])"
      ]
     },
     "execution_count": 9,
     "metadata": {},
     "output_type": "execute_result"
    }
   ],
   "source": [
    "# key값 확인 방법 \n",
    "dict1.keys() # keys() 라는 함수를 이용하여 dict1 안에 있는 key 들을 확인"
   ]
  },
  {
   "cell_type": "code",
   "execution_count": 10,
   "id": "941e5147-b0d3-4e50-9b0b-8d8ed48bc265",
   "metadata": {},
   "outputs": [
    {
     "data": {
      "text/plain": [
       "'age'"
      ]
     },
     "execution_count": 10,
     "metadata": {},
     "output_type": "execute_result"
    }
   ],
   "source": [
    "# key값중 특정 key값 가져오기 - 형변환\n",
    "list(dict1.keys())[2] # key값을 지정하고자 하는 경우, 딕셔너리는 순서가 없기 때문에 순서를 만들어주면 됨! -> 형변환\n"
   ]
  },
  {
   "cell_type": "code",
   "execution_count": 11,
   "id": "97a55a07-5efa-47c4-8b96-9c070aad3111",
   "metadata": {},
   "outputs": [
    {
     "data": {
      "text/plain": [
       "dict_values(['value', 'AI', 100, '010-2222-2222'])"
      ]
     },
     "execution_count": 11,
     "metadata": {},
     "output_type": "execute_result"
    }
   ],
   "source": [
    "# value값들만 확인하고 싶을 때 values() 라는 함수를 사용\n",
    "dict1.values()"
   ]
  },
  {
   "cell_type": "code",
   "execution_count": 45,
   "id": "5d2c8e3c-f670-4e0c-97e0-9e14930c4051",
   "metadata": {},
   "outputs": [
    {
     "data": {
      "text/plain": [
       "'2'"
      ]
     },
     "execution_count": 45,
     "metadata": {},
     "output_type": "execute_result"
    }
   ],
   "source": [
    "# value값중 특정 value값만 인덱스 지정하여 확인\n",
    "list(dict1.values())[-1][1]"
   ]
  },
  {
   "cell_type": "code",
   "execution_count": 9,
   "id": "b8eef51d-adf9-48aa-8d22-84560ddb7fdc",
   "metadata": {},
   "outputs": [
    {
     "data": {
      "text/plain": [
       "dict_items([('key', 'value'), ('name', 'AI'), ('age', 100), ('phone', '010-2222-2222')])"
      ]
     },
     "execution_count": 9,
     "metadata": {},
     "output_type": "execute_result"
    }
   ],
   "source": [
    "# key와 value를 확인\n",
    "dict1.items() "
   ]
  },
  {
   "cell_type": "code",
   "execution_count": 13,
   "id": "17bec627-d9e0-45fe-8e22-160e31d91736",
   "metadata": {},
   "outputs": [
    {
     "name": "stdout",
     "output_type": "stream",
     "text": [
      "key\n",
      "name\n",
      "age\n",
      "phone\n"
     ]
    }
   ],
   "source": [
    "# 반복문 활용\n",
    "for value in dict1 : # key 값들이 나옴\n",
    "    print(value)"
   ]
  },
  {
   "cell_type": "code",
   "execution_count": 15,
   "id": "c2dcb37b-87fe-4d47-aa93-2eb54c9c64f6",
   "metadata": {},
   "outputs": [
    {
     "name": "stdout",
     "output_type": "stream",
     "text": [
      "value\n",
      "AI\n",
      "100\n",
      "010-2222-2222\n"
     ]
    }
   ],
   "source": [
    "for value in dict1.values() : # value 값들이 나옴\n",
    "    print(value)"
   ]
  },
  {
   "cell_type": "code",
   "execution_count": 46,
   "id": "e6ea1a3d-0c80-471d-b62a-c33475399833",
   "metadata": {},
   "outputs": [
    {
     "name": "stdout",
     "output_type": "stream",
     "text": [
      "('key', 'value')\n",
      "('name', 'AI')\n",
      "('age', 100)\n",
      "('phone', '010-2222-2222')\n",
      "('birth', '12/21')\n"
     ]
    }
   ],
   "source": [
    "\n",
    "for value in dict1.items() : # 튜플로 패킹된 값들이 나옴\n",
    "    print(value)"
   ]
  },
  {
   "cell_type": "code",
   "execution_count": 47,
   "id": "b723dea3-af85-4b36-bcee-ceabb799ec59",
   "metadata": {},
   "outputs": [
    {
     "name": "stdout",
     "output_type": "stream",
     "text": [
      "('name', 'AI')\n",
      "('age', 100)\n",
      "('phone', '010-2222-2222')\n",
      "('birth', '12/21')\n"
     ]
    }
   ],
   "source": [
    "for item in list(dict1.items())[1:] : # 튜플형태의 값들이 나옴\n",
    "    print(item)"
   ]
  },
  {
   "cell_type": "code",
   "execution_count": 21,
   "id": "24547621-4df1-4be6-97e4-043733c45477",
   "metadata": {},
   "outputs": [
    {
     "name": "stdout",
     "output_type": "stream",
     "text": [
      "name\n",
      "AI\n",
      "age\n",
      "100\n",
      "phone\n",
      "010-2222-2222\n"
     ]
    }
   ],
   "source": [
    "# 딕셔너리에서 특정 범위만큼 들여다보고 싶은 경우, list로 형변환 후 슬라이싱 활용!\n",
    "\n",
    "# 튜플로 패킹되어 있는 요소를 들여다볼 때, 각 개수만큼 변수를 선언해서 반복문을 활용!\n",
    "for key, value in list(dict1.items())[1:] :\n",
    "    print(key)\n",
    "    print(value)"
   ]
  },
  {
   "cell_type": "markdown",
   "id": "c480dd12-71cf-4941-8aff-503154a39a9b",
   "metadata": {},
   "source": [
    "### 함수(function)\n",
    "- **호출** 될 때 **특정 기능을 수행**하는 **재사용 가능**한 코드 블록"
   ]
  },
  {
   "cell_type": "markdown",
   "id": "bd3447a9-cc62-47a0-adbf-14a08a6bb7d6",
   "metadata": {},
   "source": [
    "- 함수 정의\n",
    "```python\n",
    "def 함수명(매개변수) :\n",
    "    코드블록\n",
    "    return 결괏값\n",
    "```\n",
    "- 함수 호출\n",
    "```\n",
    "함수명(인수)\n",
    "```"
   ]
  },
  {
   "cell_type": "markdown",
   "id": "6ef8e70f-d0b6-49d5-9bac-3b07e5edbece",
   "metadata": {},
   "source": [
    "### 함수의 특성\n",
    "1. 매개변수의 순서대로 인자값이 전달\n",
    "2. 매개변수를 지정해서 호출 시 순서 상관 없이 전달\n",
    "3. 함수 정의 시 기본값을 세팅\n",
    "4. return 결괏값은 언제나 하나!\n",
    "5. 입력값이나 결괏값이 있을 수도 있고, 없을 수도 있음!"
   ]
  },
  {
   "cell_type": "code",
   "execution_count": 53,
   "id": "c33908e9-4cbb-4768-aa20-a256fa749450",
   "metadata": {},
   "outputs": [],
   "source": [
    "# 함수 정의 \n",
    "\n",
    "def add( a, b ) :\n",
    "    print(f\"a : {a}\")\n",
    "    print(f\"b : {b}\")\n",
    "    result = a + b\n",
    "    return result"
   ]
  },
  {
   "cell_type": "code",
   "execution_count": 54,
   "id": "9f631aeb-821a-42af-bfa0-8984ad2da143",
   "metadata": {},
   "outputs": [
    {
     "name": "stdout",
     "output_type": "stream",
     "text": [
      "a : 1\n",
      "b : 2\n"
     ]
    },
    {
     "data": {
      "text/plain": [
       "3"
      ]
     },
     "execution_count": 54,
     "metadata": {},
     "output_type": "execute_result"
    }
   ],
   "source": [
    "# 함수 호출 \n",
    "# 1번 특성\n",
    "num1, num2 = 1, 2\n",
    "add( num1, num2)"
   ]
  },
  {
   "cell_type": "code",
   "execution_count": 55,
   "id": "123ca878-e26c-43f9-bfa1-4e880be35cc8",
   "metadata": {},
   "outputs": [
    {
     "name": "stdout",
     "output_type": "stream",
     "text": [
      "a : 2\n",
      "b : 1\n"
     ]
    },
    {
     "data": {
      "text/plain": [
       "3"
      ]
     },
     "execution_count": 55,
     "metadata": {},
     "output_type": "execute_result"
    }
   ],
   "source": [
    "# 2번 특성 - 매개변수 지정하여 호출\n",
    "add(b = num1, a = num2)"
   ]
  },
  {
   "cell_type": "code",
   "execution_count": 56,
   "id": "2eedd26b-bd27-482a-ac7a-ece3f206377b",
   "metadata": {},
   "outputs": [
    {
     "name": "stdout",
     "output_type": "stream",
     "text": [
      "a : 1\n",
      "b : 5\n",
      "a : 1\n",
      "b : 7\n"
     ]
    },
    {
     "data": {
      "text/plain": [
       "8"
      ]
     },
     "execution_count": 56,
     "metadata": {},
     "output_type": "execute_result"
    }
   ],
   "source": [
    "# 3번 특성 - 함수 정의시 기본 값을 세팅\n",
    "def add2( a, b = 5) :\n",
    "    print(f\"a : {a}\")\n",
    "    print(f\"b : {b}\")\n",
    "    result = a + b\n",
    "    return result\n",
    "add2(num1)\n",
    "add2(num1, b= 7)"
   ]
  },
  {
   "cell_type": "code",
   "execution_count": 60,
   "id": "def3b7f7-c889-443c-838c-740c4e62eee9",
   "metadata": {},
   "outputs": [
    {
     "name": "stdout",
     "output_type": "stream",
     "text": [
      "안녕하세요반갑습니다\n"
     ]
    }
   ],
   "source": [
    "print(\"안녕\", end = \"\") # end 값을 \\n 에서 초기화하여 개행하지 않게 만들어줌\n",
    "print(\"하세요\",\"반갑습니다\", sep = \"\") # sep 값을 공백에서 기준을 공백없이 출력되게 "
   ]
  },
  {
   "cell_type": "code",
   "execution_count": 61,
   "id": "bd023911-d243-486c-8ba6-66963a936da1",
   "metadata": {},
   "outputs": [],
   "source": [
    "# 4번 특징 - return 의 결괏값은 언제나 하나!\n",
    "def add_mul(a, b) :\n",
    "    return a + b\n",
    "    return a * b # 두번째 결괏값은 반환 되지않음!"
   ]
  },
  {
   "cell_type": "code",
   "execution_count": 40,
   "id": "5d785573-6be8-4143-9ad4-6734023a17ec",
   "metadata": {},
   "outputs": [
    {
     "data": {
      "text/plain": [
       "11"
      ]
     },
     "execution_count": 40,
     "metadata": {},
     "output_type": "execute_result"
    }
   ],
   "source": [
    "add_mul(4, 7)"
   ]
  },
  {
   "cell_type": "code",
   "execution_count": 63,
   "id": "52e808af-f602-4e67-bbfa-1e2936f2abf2",
   "metadata": {},
   "outputs": [],
   "source": [
    "def add_mul(a, b) :\n",
    "    return a + b, a * b"
   ]
  },
  {
   "cell_type": "code",
   "execution_count": 65,
   "id": "a9332e30-6376-491a-b8d0-a6367964f106",
   "metadata": {},
   "outputs": [
    {
     "data": {
      "text/plain": [
       "(11, 28)"
      ]
     },
     "execution_count": 65,
     "metadata": {},
     "output_type": "execute_result"
    }
   ],
   "source": [
    "add_mul(4, 7) # 튜플로 패킹되서 튜플 하나가 나옴!"
   ]
  },
  {
   "cell_type": "code",
   "execution_count": 69,
   "id": "bab62a6a-6bf5-4c84-a2c5-b7d96ba1c2ea",
   "metadata": {},
   "outputs": [],
   "source": [
    "# 입력값이나 결괏값이 있을 수도 있고, 없을 수도 있음!\n",
    "# 입력 값이 없고, 결괏값이 있는 함수 !\n",
    "def say() :\n",
    "    return \"Hi\""
   ]
  },
  {
   "cell_type": "code",
   "execution_count": 68,
   "id": "a8d9e7d8-4c58-4c0e-89b6-3d7c301c8193",
   "metadata": {},
   "outputs": [
    {
     "data": {
      "text/plain": [
       "'Hi'"
      ]
     },
     "execution_count": 68,
     "metadata": {},
     "output_type": "execute_result"
    }
   ],
   "source": [
    "a = say()\n",
    "a"
   ]
  },
  {
   "cell_type": "code",
   "execution_count": 70,
   "id": "80ef2dc9-f8d1-41b4-855a-1739f9eb849f",
   "metadata": {},
   "outputs": [],
   "source": [
    "# 입력값과 결괏값이 없는 함수!\n",
    "def say2() :\n",
    "    print(\"Hi\")"
   ]
  },
  {
   "cell_type": "code",
   "execution_count": 77,
   "id": "9b6a2645-74cb-4d1a-85f9-bf8eed1c25f3",
   "metadata": {},
   "outputs": [
    {
     "name": "stdout",
     "output_type": "stream",
     "text": [
      "Hi\n",
      "None\n"
     ]
    }
   ],
   "source": [
    "b = say2()\n",
    "print(b)"
   ]
  },
  {
   "cell_type": "code",
   "execution_count": 4,
   "id": "232be3ee-033f-438d-b55e-4747b3bb3f9d",
   "metadata": {},
   "outputs": [],
   "source": [
    "# 만약에 내가 만든 함수를 다른 개발자가 보고 이해할 수 없다면...?\n",
    "# Donstring(독스트링) : 함수의 설명문\n",
    "def add2( ) :\n",
    "    '''독스트링 입니다. 해당 함수는 더해주는 함수입니다.'''\n",
    "    # print(f\"a : {a}\")\n",
    "    # print(f\"b : {b}\")\n",
    "    \n",
    "    # result = a + b\n",
    "    # return result\n"
   ]
  },
  {
   "cell_type": "code",
   "execution_count": 5,
   "id": "be3abff1-4884-4323-bcdf-fd11151887e5",
   "metadata": {},
   "outputs": [],
   "source": [
    "add2()"
   ]
  },
  {
   "cell_type": "code",
   "execution_count": 1,
   "id": "d5fca651-587a-45ec-b5f4-977c9ff2d1b6",
   "metadata": {},
   "outputs": [],
   "source": [
    "# 입력값의 개수가 정해져 있지 않다면...?\n",
    "# 가변 매개변수 (*)\n",
    "# 함수 호출 시 몇 개의 인수가 전달 될 지 알 수 없다면, 호출자의 입장에서 매개변수의 개수를 정할 수 있도록 선언\n",
    "def add2(*args) :\n",
    "    # print(args)\n",
    "    result = sum(args)\n",
    "    return result\n"
   ]
  },
  {
   "cell_type": "code",
   "execution_count": 2,
   "id": "ec5e2d0b-0fbd-4266-aed3-2adaa493917a",
   "metadata": {},
   "outputs": [
    {
     "data": {
      "text/plain": [
       "10"
      ]
     },
     "execution_count": 2,
     "metadata": {},
     "output_type": "execute_result"
    }
   ],
   "source": [
    "add2(1,2,3,4)"
   ]
  },
  {
   "cell_type": "code",
   "execution_count": 3,
   "id": "40e65b58",
   "metadata": {},
   "outputs": [
    {
     "data": {
      "text/plain": [
       "{'일본', '중국', '한국'}"
      ]
     },
     "execution_count": 3,
     "metadata": {},
     "output_type": "execute_result"
    }
   ],
   "source": [
    "# 집합\n",
    "# 중괄호 -> 중복 없음, 순서 없음\n",
    "set1 = {\"한국\", \"일본\",\"중국\",\"한국\"}\n",
    "set1"
   ]
  }
 ],
 "metadata": {
  "kernelspec": {
   "display_name": "Python 3 (ipykernel)",
   "language": "python",
   "name": "python3"
  },
  "language_info": {
   "codemirror_mode": {
    "name": "ipython",
    "version": 3
   },
   "file_extension": ".py",
   "mimetype": "text/x-python",
   "name": "python",
   "nbconvert_exporter": "python",
   "pygments_lexer": "ipython3",
   "version": "3.11.7"
  }
 },
 "nbformat": 4,
 "nbformat_minor": 5
}
