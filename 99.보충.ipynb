{
 "cells": [
  {
   "cell_type": "markdown",
   "metadata": {},
   "source": [
    "#### 파일 읽기 쓰기\n",
    "- open('파일명', '모드') : 파일을 연다.\n",
    "- close() : 파일을 닫는다.\n",
    "\n",
    "### 파일모드\n",
    "| 모드 | 설명 |\n",
    "| ----- | ----- |\n",
    "|r|읽기모드 - 파일에서 내용을 읽음|\n",
    "|w|쓰기모드 - 파일에 내용을 씀|\n",
    "|a|추가모드 - 파일의 마지막에 새로운 내용을 추가|"
   ]
  },
  {
   "cell_type": "code",
   "execution_count": 36,
   "metadata": {},
   "outputs": [
    {
     "name": "stdout",
     "output_type": "stream",
     "text": [
      "안녕하세요\n",
      "\n",
      "안녕하세요\n",
      "\n",
      "Python입니다.\n",
      "안녕하세요\n",
      "Python입니다."
     ]
    }
   ],
   "source": [
    "# 파일\n",
    "# opne(파일명, 모드)\n",
    "f = open('test.txt', 'w') # 파일 생성됨\n",
    "\n",
    "f.close()\n",
    "\n",
    "f = open('test.txt', 'w') # 파일 오픈\n",
    "f.write('안녕하세요\\nPython입니다.') # 파일 안에 내용 써주기\n",
    "f.close() # 파일 닫기\n",
    "\n",
    "f = open('test.txt', 'r')\n",
    "line = f.readline() # 파일에 있는 내용 한줄 읽기\n",
    "print(line) # 파일 안 한줄만 읽어옴\n",
    "f.close()\n",
    "\n",
    "# 전체 파일 내용읽기\n",
    "try:\n",
    "    f = open('test.txt', 'r')\n",
    "    while True :\n",
    "        line = f.readline()\n",
    "        if not line :\n",
    "            break\n",
    "        print(line)\n",
    "    f.close()\n",
    "except:\n",
    "    print('파일 읽기를 실패했습니다.')\n",
    "\n",
    "# 전체 파일읽기 - readlines() 함수 사용\n",
    "try:\n",
    "    f = open('test.txt', 'r')\n",
    "    lines = f.readlines()\n",
    "    for line in lines :\n",
    "        print(line, end=\"\")\n",
    "    f.close()\n",
    "except:\n",
    "    print('파일 읽기를 실패했습니다.')\n",
    "\n",
    "# a 추가 모드 - 작성된 파일에 추가 내용 작성\n",
    "try:\n",
    "    f = open('test.txt', 'a')\n",
    "    f.write('\\nPython is easy')\n",
    "    f.close()\n",
    "except:\n",
    "    print('파일 읽기를 실패했습니다.')\n",
    "\n",
    "# 파일 닫기 - with를 사용하면 close()문을 사용하지 않아도 파일 객체를 닫을 수 있다.\n",
    "try:\n",
    "    with open('test.txt', 'w') as f:\n",
    "        f.write('안녕하세요.\\nPython입니다.')\n",
    "except:\n",
    "    print('파일 읽기를 실패했습니다.')"
   ]
  },
  {
   "cell_type": "code",
   "execution_count": 47,
   "metadata": {},
   "outputs": [
    {
     "name": "stdout",
     "output_type": "stream",
     "text": [
      "C:/Users/taeja/01.Python기초\\.ipynb_checkpoints\n",
      "C:/Users/taeja/01.Python기초\\01. 변수, 자료형, 문자열, 연산자.ipynb\n",
      "C:/Users/taeja/01.Python기초\\02. 조건문, 리스트, 튜플, 000반복문.ipynb\n",
      "C:/Users/taeja/01.Python기초\\03. 딕셔너리, 함수.ipynb\n",
      "C:/Users/taeja/01.Python기초\\04.모듈.ipynb\n",
      "C:/Users/taeja/01.Python기초\\movie_review.pkl\n",
      "C:/Users/taeja/01.Python기초\\Untitled.ipynb\n",
      "C:/Users/taeja/01.Python기초\\__pycache__\n",
      "C:/Users/taeja/01.Python기초\\모듈 test.ipynb\n",
      "C:/Users/taeja/01.Python기초\\모듈.py\n"
     ]
    }
   ],
   "source": [
    "import os\n",
    "\n",
    "# 파일 경로, 파일 목록 보기 - os.listdir() 함수를 통해 파일의 목록을 확인\n",
    "dirname = 'C:/Users/taeja/01.Python기초'\n",
    "filenames = os.listdir(dirname)\n",
    "filenames\n",
    "for filename in filenames :\n",
    "    full_filename = os.path.join(dirname, filename) # os.path.join() 를 통해 파일의 경로와 파일의 이름을 full_filename라는 변수에 담아 print()\n",
    "    print(full_filename)"
   ]
  },
  {
   "cell_type": "code",
   "execution_count": 50,
   "metadata": {},
   "outputs": [
    {
     "name": "stdout",
     "output_type": "stream",
     "text": [
      "해당 파일이 없습니다.\n"
     ]
    }
   ],
   "source": [
    "# 생성된 파일 삭제 - os.remove() 함수를 사용하여 파일 삭제\n",
    "try:\n",
    "    if os.path.exists('test.txt') :\n",
    "        os.remove('test.txt')\n",
    "    else:\n",
    "        print('해당 파일이 없습니다.')\n",
    "except:\n",
    "    print('오류')"
   ]
  },
  {
   "cell_type": "code",
   "execution_count": 53,
   "metadata": {},
   "outputs": [],
   "source": [
    "import os\n",
    "# 폴더 생성 - os.mkdir() 함수로 생성\n",
    "DIR = './test'\n",
    "if not os.path.exists(DIR): # 해당 경로에 폴더가 없다면 \n",
    "    os.mkdir(DIR) # 해당 폴더 생성"
   ]
  },
  {
   "cell_type": "code",
   "execution_count": 55,
   "metadata": {},
   "outputs": [
    {
     "name": "stdout",
     "output_type": "stream",
     "text": [
      "폴더가 존재하지 않습니다.\n"
     ]
    }
   ],
   "source": [
    "# 폴더 삭제 - os.rmdir() 함수로 삭제\n",
    "DIR = './test/'\n",
    "if os.path.exists(DIR):\n",
    "    os.rmdir(DIR)\n",
    "else:\n",
    "    print('폴더가 존재하지 않습니다.')"
   ]
  }
 ],
 "metadata": {
  "kernelspec": {
   "display_name": "base",
   "language": "python",
   "name": "python3"
  },
  "language_info": {
   "codemirror_mode": {
    "name": "ipython",
    "version": 3
   },
   "file_extension": ".py",
   "mimetype": "text/x-python",
   "name": "python",
   "nbconvert_exporter": "python",
   "pygments_lexer": "ipython3",
   "version": "3.11.7"
  }
 },
 "nbformat": 4,
 "nbformat_minor": 2
}
