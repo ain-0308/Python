{
 "cells": [
  {
   "cell_type": "markdown",
   "id": "76b26cfd-bd21-4b2f-9212-64a4db4367e2",
   "metadata": {},
   "source": [
    "### 조건문\n",
    "- 상황에 따라 실행 흐름을 다르게 하는 문법\n",
    "\n",
    "다른 언어에서의 if문\n",
    "```python\n",
    "if(True){\n",
    "    코드블럭\n",
    "};\n",
    "```\n",
    "python에서의 if문\n",
    "```python\n",
    "if True :\n",
    "    코드블럭\n",
    "    코드블럭...\n",
    "```\n",
    "- 콜론 \":\" 들여쓰기 \"space*4, Tab\" 가 매우 중요❗\n",
    "- 조건문 키워드 : if, elif, else"
   ]
  },
  {
   "cell_type": "code",
   "execution_count": 49,
   "id": "f60c5ab2-59df-43ba-820b-a2be434c0dbd",
   "metadata": {},
   "outputs": [
    {
     "name": "stdin",
     "output_type": "stream",
     "text": [
      "점수를 입력하세요 90\n"
     ]
    },
    {
     "name": "stdout",
     "output_type": "stream",
     "text": [
      "90점은 A학점입니다.\n"
     ]
    }
   ],
   "source": [
    "score = int(input(\"점수를 입력하세요\"))\n",
    "\n",
    "if score >= 101 :\n",
    "    print(\"잘못 입력 하셨습니다.\")\n",
    "elif score >= 90 :\n",
    "    grade = \"A\"\n",
    "elif score >= 80 :\n",
    "    grade = \"B\"\n",
    "elif score >= 70 :\n",
    "    grade = \"C\"\n",
    "elif score <= 60 and score > 0 :\n",
    "    grade = \"D\"\n",
    "elif score <= 0 :\n",
    "    print(\"잘못 입력 하셨습니다.\")\n",
    "if score > 0 :\n",
    "    if score < 101 :\n",
    "        print(f\"{score}점은 {grade}학점입니다.\")"
   ]
  },
  {
   "cell_type": "markdown",
   "id": "cf9d3e5b-acff-446a-86a8-d97604548de2",
   "metadata": {},
   "source": [
    "'''if score >= 101 :\n",
    "    print(\"잘못 입력하셨습니다.\")\n",
    "elif score <= 0 :\n",
    "    print(\"잘못 입력하셨습니다.\")\n",
    "elif score >=  90 :\n",
    "    print(f\"{score}점은 A학점 입니다.\")\n",
    "elif score >= 80 :\n",
    "    print(f\"{score}점은 B학점 입니다.\")\n",
    "elif score >= 70 :\n",
    "    print(f\"{score}점은 C학점 입니다.\")\n",
    "elif score >= 60 :\n",
    "    print(f\"{score}점은 D학점 입니다.\")\n",
    "elif score < 60 :\n",
    "    print(f\"{score}점은 F학점 입니다.\")'''"
   ]
  }
 ],
 "metadata": {
  "kernelspec": {
   "display_name": "Python 3 (ipykernel)",
   "language": "python",
   "name": "python3"
  },
  "language_info": {
   "codemirror_mode": {
    "name": "ipython",
    "version": 3
   },
   "file_extension": ".py",
   "mimetype": "text/x-python",
   "name": "python",
   "nbconvert_exporter": "python",
   "pygments_lexer": "ipython3",
   "version": "3.11.7"
  }
 },
 "nbformat": 4,
 "nbformat_minor": 5
}
