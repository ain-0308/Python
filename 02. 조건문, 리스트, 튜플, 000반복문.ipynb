{
 "cells": [
  {
   "cell_type": "markdown",
   "id": "76b26cfd-bd21-4b2f-9212-64a4db4367e2",
   "metadata": {},
   "source": [
    "### 조건문\n",
    "- 상황에 따라 실행 흐름을 다르게 하는 문법\n",
    "\n",
    "다른 언어에서의 if문\n",
    "```python\n",
    "if(True){\n",
    "    코드블럭\n",
    "};\n",
    "```\n",
    "python에서의 if문\n",
    "```python\n",
    "if True :\n",
    "    코드블럭\n",
    "    코드블럭\n",
    "elif True :\n",
    "    코드블럭\n",
    "else :\n",
    "    코드블럭 (위 조건에서 모두 False가 나오면 처리)\n",
    "```\n",
    "코드블럭 표현\n",
    "- 콜론 \":\" , 들여쓰기 (\"space*4, Tab\" 가 매우 중요❗)\n",
    "- 조건문 키워드 : if, elif, else"
   ]
  },
  {
   "cell_type": "code",
   "execution_count": 2,
   "id": "f60c5ab2-59df-43ba-820b-a2be434c0dbd",
   "metadata": {},
   "outputs": [
    {
     "name": "stdout",
     "output_type": "stream",
     "text": [
      "점수를 입력하세요 -1\n"
     ]
    },
    {
     "name": "stdout",
     "output_type": "stream",
     "text": [
      "잘못 입력 하셨습니다.\n"
     ]
    }
   ],
   "source": [
    "score = int(input(\"점수를 입력하세요\"))\n",
    "\n",
    "if score <= 100 and score >= 0 :\n",
    "    if score >= 90 :\n",
    "        grade = \"A\"\n",
    "    elif score >= 80 :\n",
    "        grade = \"B\"\n",
    "    elif score >= 70 :\n",
    "        grade = \"C\"\n",
    "    elif score >= 60 :\n",
    "        grade = \"D\"\n",
    "    else : \n",
    "        grade = \"F\"\n",
    "    print(f\"{score}점은 {grade}학점입니다.\")\n",
    "else : \n",
    "    print(\"잘못 입력 하셨습니다.\")"
   ]
  },
  {
   "cell_type": "markdown",
   "id": "7796082f-37d2-4d28-af47-6a659c2368e0",
   "metadata": {},
   "source": [
    "### 리스트(list)\n",
    "- 파이썬에서 제공되는 자료형 중 하나\n",
    "- 순서가 있는 <b>수정 가능한<b> 객체의 집합\n",
    "- **대괄호 '[ ]'로 작성**되어지며, 내부 요소는 콤마 ','로 구분지어 짐\n",
    "\n",
    "### 튜플(tuple)\n",
    "- 파이썬에서 제공되는 자료형 중 하나\n",
    "- 순서가 있는 <b>수정 불가능</b>한 객체의 집합\n",
    "- **대괄호 '( )'로 작성**되어지며, 내부 요소는 콤마 ','로 구분지어 짐"
   ]
  },
  {
   "cell_type": "code",
   "execution_count": 4,
   "id": "c0a9ec9d-6062-4371-aef8-d94c2d6feaf8",
   "metadata": {},
   "outputs": [
    {
     "data": {
      "text/plain": [
       "2"
      ]
     },
     "execution_count": 4,
     "metadata": {},
     "output_type": "execute_result"
    }
   ],
   "source": [
    "list1 = [ 1, 2, '3', [1,2,3] ] # list안의 list의 2에 접근\n",
    "list1[3][1] # 인덱싱 : 무엇인가를 가리키다!\n"
   ]
  },
  {
   "cell_type": "code",
   "execution_count": 5,
   "id": "acea8700-5a3d-43d9-ae4f-767264929897",
   "metadata": {},
   "outputs": [
    {
     "data": {
      "text/plain": [
       "[2, 3]"
      ]
     },
     "execution_count": 5,
     "metadata": {},
     "output_type": "execute_result"
    }
   ],
   "source": [
    "list1[3][1:] # 슬라이싱 : 무엇인가를 잘라내다!"
   ]
  },
  {
   "cell_type": "code",
   "execution_count": 8,
   "id": "8c050f70-ceb0-4f4e-a4e2-68752e937922",
   "metadata": {},
   "outputs": [],
   "source": [
    "# 리스트 추가\n",
    "list1.append(4) # 맨 뒤에 값을 추가 - append(), insert()"
   ]
  },
  {
   "cell_type": "code",
   "execution_count": 12,
   "id": "effc039d-53bc-46a0-88f4-574d11af9c38",
   "metadata": {},
   "outputs": [],
   "source": [
    "list1.insert(3, 3) # 해당 위치에 값을 추가"
   ]
  },
  {
   "cell_type": "code",
   "execution_count": 11,
   "id": "7eafd937-b0e2-4733-8b39-3c8b979e4f5a",
   "metadata": {},
   "outputs": [
    {
     "data": {
      "text/plain": [
       "[1, 2, '3', 3, [1, 2, 3], 4]"
      ]
     },
     "execution_count": 11,
     "metadata": {},
     "output_type": "execute_result"
    }
   ],
   "source": [
    "list1"
   ]
  },
  {
   "cell_type": "markdown",
   "id": "e1497d80-e9cf-44c5-bc42-39b3a62d5a02",
   "metadata": {},
   "source": [
    "### 수정\n",
    "- \"지정(인덱싱, 슬라이싱)\"하고 \"대입\"하면 끝!"
   ]
  },
  {
   "cell_type": "code",
   "execution_count": 15,
   "id": "c549b159-4631-4320-9eea-b531fd708e83",
   "metadata": {},
   "outputs": [],
   "source": [
    "list1[2] = 5"
   ]
  },
  {
   "cell_type": "code",
   "execution_count": 16,
   "id": "f5fe23ec-5b63-4eef-8ef7-36151f2f7da0",
   "metadata": {},
   "outputs": [
    {
     "data": {
      "text/plain": [
       "[1, 2, 5, 3, 3, [1, 2, 3], 4]"
      ]
     },
     "execution_count": 16,
     "metadata": {},
     "output_type": "execute_result"
    }
   ],
   "source": [
    "list1"
   ]
  },
  {
   "cell_type": "code",
   "execution_count": 20,
   "id": "bfee7ce7-35e8-4f92-a238-e8e5c34c7c5d",
   "metadata": {},
   "outputs": [],
   "source": [
    "# 삭제\n",
    "list1.remove(3) # 인덱스번호를 순회하며 들어있는 값을 찾게 되고 만나게 되면 삭제되는 구조\n",
    "# 해당 값을 인덱스 순서대로 순회하며 찾으면 삭제(중복값이 있으면 첫번째 값만 삭제하고 끝남)"
   ]
  },
  {
   "cell_type": "code",
   "execution_count": 21,
   "id": "6622a233-c13a-45ee-8a7b-aa1ee036a90b",
   "metadata": {},
   "outputs": [
    {
     "data": {
      "text/plain": [
       "[1, 2, 5, [1, 2, 3], 4]"
      ]
     },
     "execution_count": 21,
     "metadata": {},
     "output_type": "execute_result"
    }
   ],
   "source": [
    "list1"
   ]
  },
  {
   "cell_type": "code",
   "execution_count": 23,
   "id": "0b4fbc2e-2cd8-4b3c-b808-84c94a8c93e7",
   "metadata": {},
   "outputs": [],
   "source": [
    "# del 키워드 : 인덱싱이나 슬라이싱을 수행해서 삭제\n",
    "del list1[3]"
   ]
  },
  {
   "cell_type": "code",
   "execution_count": 24,
   "id": "accb2e88-8cfb-4788-a512-fa99e8930e76",
   "metadata": {},
   "outputs": [
    {
     "data": {
      "text/plain": [
       "[1, 2, 5, 4]"
      ]
     },
     "execution_count": 24,
     "metadata": {},
     "output_type": "execute_result"
    }
   ],
   "source": [
    "list1"
   ]
  },
  {
   "cell_type": "code",
   "execution_count": 25,
   "id": "901e79e1-0142-47c2-8eaa-73da9bae735d",
   "metadata": {},
   "outputs": [
    {
     "data": {
      "text/plain": [
       "[8, 2, 100, 123, 1324, 756432]"
      ]
     },
     "execution_count": 25,
     "metadata": {},
     "output_type": "execute_result"
    }
   ],
   "source": [
    "# 정렬, 길이확인\n",
    "list2 = [8,2,100,123,1324,756432]\n",
    "list2"
   ]
  },
  {
   "cell_type": "code",
   "execution_count": 29,
   "id": "74f56171-6ca0-4cf4-9683-82c5bfd79250",
   "metadata": {},
   "outputs": [],
   "source": [
    "list2.sort() # 기본값으로 오름차순"
   ]
  },
  {
   "cell_type": "code",
   "execution_count": 27,
   "id": "2ff0c4b3-1950-42cc-a41a-044363402eab",
   "metadata": {},
   "outputs": [
    {
     "data": {
      "text/plain": [
       "[2, 8, 100, 123, 1324, 756432]"
      ]
     },
     "execution_count": 27,
     "metadata": {},
     "output_type": "execute_result"
    }
   ],
   "source": [
    "list2"
   ]
  },
  {
   "cell_type": "code",
   "execution_count": 31,
   "id": "a058cef8-32de-4af7-ac40-7457380094f7",
   "metadata": {},
   "outputs": [
    {
     "data": {
      "text/plain": [
       "[756432, 1324, 123, 100, 8, 2]"
      ]
     },
     "execution_count": 31,
     "metadata": {},
     "output_type": "execute_result"
    }
   ],
   "source": [
    "list2.sort(reverse = True) # reverse = True 설정 시 내림차순으로 전환!\n",
    "list2"
   ]
  },
  {
   "cell_type": "code",
   "execution_count": 32,
   "id": "7f0964a9-9c60-41e2-87f8-53a6b6ca53a8",
   "metadata": {},
   "outputs": [
    {
     "data": {
      "text/plain": [
       "6"
      ]
     },
     "execution_count": 32,
     "metadata": {},
     "output_type": "execute_result"
    }
   ],
   "source": [
    "# 길이확인\n",
    "len(list2)"
   ]
  },
  {
   "cell_type": "code",
   "execution_count": 33,
   "id": "e6403398-6d07-4530-92ee-a40823ba3ad8",
   "metadata": {},
   "outputs": [
    {
     "data": {
      "text/plain": [
       "(1, 2, '3', (1, 2, 3), [4, 5, 6])"
      ]
     },
     "execution_count": 33,
     "metadata": {},
     "output_type": "execute_result"
    }
   ],
   "source": [
    "tuple1 = (1,2,\"3\", (1,2,3,), [4,5,6])\n",
    "tuple1"
   ]
  },
  {
   "cell_type": "markdown",
   "id": "561f7d37-57ee-4c7c-b9f0-ad7b03163ac2",
   "metadata": {},
   "source": [
    "```python\n",
    "tuple1[2] = 1\n",
    "---------------------------------------------------------------------------\n",
    "TypeError                                 Traceback (most recent call last)\n",
    "Cell In[34], line 1\n",
    "----> 1 tuple1[2] = 1\n",
    "\n",
    "TypeError: 'tuple' object does not support item assig\n",
    "```nment"
   ]
  },
  {
   "cell_type": "code",
   "execution_count": 49,
   "id": "454817bc-e51b-4514-946e-26fba9c18590",
   "metadata": {},
   "outputs": [
    {
     "data": {
      "text/plain": [
       "(1, 2, '3', (1, 2, 3), [4, 10, 6])"
      ]
     },
     "execution_count": 49,
     "metadata": {},
     "output_type": "execute_result"
    }
   ],
   "source": [
    "tuple1[-1][1] = 10 # 튜플안에 리스트는 수정가능\n",
    "tuple1"
   ]
  },
  {
   "cell_type": "markdown",
   "id": "d1b97750-b337-4bf4-898c-17cbeafe61bf",
   "metadata": {
    "scrolled": true
   },
   "source": [
    "```python\n",
    "del tuple1[2] #  튜플은 수정 불가능!\n",
    "---------------------------------------------------------------------------\n",
    "TypeError                                 Traceback (most recent call last)\n",
    "Cell In[44], line 1\n",
    "----> 1 del tuple1[2]\n",
    "\n",
    "TypeError: 'tuple' object doesn't support item del\n",
    "```etion"
   ]
  },
  {
   "cell_type": "code",
   "execution_count": 48,
   "id": "8db1f94f-7e28-4dd5-8827-59b00d78aabb",
   "metadata": {},
   "outputs": [],
   "source": [
    "list3 = list(tuple1) # 튜플안에 요소를 수정하고자 하는 경우, LIST로 형 변환해서 수정가능"
   ]
  },
  {
   "cell_type": "code",
   "execution_count": 43,
   "id": "7b5ec5e5-93d6-4ad7-9347-a14acee10942",
   "metadata": {},
   "outputs": [
    {
     "data": {
      "text/plain": [
       "[1, 2, 3, (1, 2, 3), [4, 10, 6]]"
      ]
     },
     "execution_count": 43,
     "metadata": {},
     "output_type": "execute_result"
    }
   ],
   "source": [
    "list3[2] = 3\n",
    "list3"
   ]
  },
  {
   "cell_type": "code",
   "execution_count": 47,
   "id": "5b3d6fee-a09f-4eaf-8b96-766764e3656f",
   "metadata": {},
   "outputs": [
    {
     "data": {
      "text/plain": [
       "(2, 3, 5, 7, 8, 9, 4, 65)"
      ]
     },
     "execution_count": 47,
     "metadata": {},
     "output_type": "execute_result"
    }
   ],
   "source": [
    "tuple2 = (2,3,5,7,8,9,4,65)\n",
    "tuple2 # 튜플은 정렬 불가능! -> 수정(치환)이 일어나기 때문!"
   ]
  },
  {
   "cell_type": "code",
   "execution_count": 52,
   "id": "30f90728-a942-4ae3-b80e-d1e251cd2243",
   "metadata": {},
   "outputs": [
    {
     "data": {
      "text/plain": [
       "(1, 2)"
      ]
     },
     "execution_count": 52,
     "metadata": {},
     "output_type": "execute_result"
    }
   ],
   "source": [
    "# 치환 - 빈공간을 만들어 서로 바꿔 줘야한다\n",
    "A = 1\n",
    "B = 2\n",
    "A, B"
   ]
  },
  {
   "cell_type": "code",
   "execution_count": 51,
   "id": "f4660d9a-cb69-4d8b-ab79-489735745c3c",
   "metadata": {},
   "outputs": [
    {
     "data": {
      "text/plain": [
       "(2, 1)"
      ]
     },
     "execution_count": 51,
     "metadata": {},
     "output_type": "execute_result"
    }
   ],
   "source": [
    "temp = A\n",
    "A = B\n",
    "B = temp\n",
    "A, B"
   ]
  },
  {
   "cell_type": "code",
   "execution_count": 53,
   "id": "a42f5325-061d-4b47-83ac-0237b9d5a8ea",
   "metadata": {},
   "outputs": [
    {
     "data": {
      "text/plain": [
       "(1, 2)"
      ]
     },
     "execution_count": 53,
     "metadata": {},
     "output_type": "execute_result"
    }
   ],
   "source": [
    "# 파이썬에서의 치환\n",
    "A = 1\n",
    "B = 2\n",
    "\n",
    "A, B"
   ]
  },
  {
   "cell_type": "code",
   "execution_count": 55,
   "id": "e0846a13-02ce-45a7-8cd1-bafe8f575a1f",
   "metadata": {},
   "outputs": [
    {
     "data": {
      "text/plain": [
       "(1, 2)"
      ]
     },
     "execution_count": 55,
     "metadata": {},
     "output_type": "execute_result"
    }
   ],
   "source": [
    "A, B = B, A # 다중선언으로 대입해주고 파이썬에서만 가능함\n",
    "A,B"
   ]
  },
  {
   "cell_type": "markdown",
   "id": "98636780-8009-40eb-a1db-0c7df31fe990",
   "metadata": {},
   "source": [
    "### 반복문\n",
    "- 프로그램 내에서 똑같은 명령을 일정 횟수만큼 반복하여 수행하도록 제어하는 명령문\n",
    "```python\n",
    "while 조건식 : # 조건식이 True인 경우에만 코드블록 실행\n",
    "    코드블록   # 반복횟수가 명확하지 않을 때!\n",
    "    코드블록\n",
    "\n",
    "for 지역변수 in 시퀀스 자료 구조 : # 반복횟수가 명확할 때!\n",
    "    코드블록\n",
    "    코드블록\n",
    "```\n",
    "- break : 반복을 종료하고, 아래로 빠져나오는 기능\n",
    "- continue : 위(조건식-while, 다음 요소-for)로 올라가는 기능"
   ]
  },
  {
   "cell_type": "code",
   "execution_count": 57,
   "id": "8dc07964-d8b5-4216-a6c2-4934e4be0c86",
   "metadata": {},
   "outputs": [
    {
     "name": "stdout",
     "output_type": "stream",
     "text": [
      "True, 공백입력 >>  \n",
      "True, 공백입력 >> \n"
     ]
    }
   ],
   "source": [
    "user_input =  True\n",
    "\n",
    "while user_input :\n",
    "    user_input =  bool(input(\"True, 공백입력 >>\"))\n",
    "    "
   ]
  },
  {
   "cell_type": "code",
   "execution_count": 61,
   "id": "2d9efd28-1cc9-457c-9c30-1ae0d7cadf78",
   "metadata": {},
   "outputs": [
    {
     "name": "stdout",
     "output_type": "stream",
     "text": [
      "피자\n",
      "햄버거\n",
      "치킨\n"
     ]
    }
   ],
   "source": [
    "food_list = [\"피자\", \"햄버거\", \"치킨\"] # 1 \n",
    "for food in food_list : # 2 food_list[0] , 4 food_list[1], 6 food_list[2]\n",
    "    print(food) # 3 피자, 5 햄버거, 7 치킨\n",
    "# for문 흐름 - 1~7"
   ]
  },
  {
   "cell_type": "code",
   "execution_count": 62,
   "id": "91115e08-92b9-441a-ac13-76a5b80957d8",
   "metadata": {},
   "outputs": [
    {
     "data": {
      "text/plain": [
       "range(1, 5)"
      ]
     },
     "execution_count": 62,
     "metadata": {},
     "output_type": "execute_result"
    }
   ],
   "source": [
    "# range(시작, 끝값[, 스텝(보폭)]) : 시작값부터 끝값까지 일련의 순서로 범위를 만들어내는 기능\n",
    "# range( [시작값, ] 끝값 [, 스텝]) : \n",
    "range(1, 5)"
   ]
  },
  {
   "cell_type": "code",
   "execution_count": 66,
   "id": "9e77bda1-ed82-4679-bca4-3a9161ea80d5",
   "metadata": {},
   "outputs": [
    {
     "name": "stdout",
     "output_type": "stream",
     "text": [
      "1\n",
      "2\n",
      "3\n",
      "4\n"
     ]
    }
   ],
   "source": [
    "for i in range(1,5) : # 1부터 4까지의 범위를 의미\n",
    "    print(i)"
   ]
  },
  {
   "cell_type": "code",
   "execution_count": 67,
   "id": "72d7fb92-e95e-413e-aa22-b3fe758c507c",
   "metadata": {},
   "outputs": [
    {
     "name": "stdout",
     "output_type": "stream",
     "text": [
      "0\n",
      "1\n",
      "2\n",
      "3\n",
      "4\n"
     ]
    }
   ],
   "source": [
    "for i in range(5) : # 0부터 4까지 > 시작값 생략가능\n",
    "    print(i)"
   ]
  },
  {
   "cell_type": "code",
   "execution_count": 68,
   "id": "1f9911a7-d4f3-462c-9f01-ed98798daf0e",
   "metadata": {},
   "outputs": [
    {
     "name": "stdout",
     "output_type": "stream",
     "text": [
      "1\n",
      "3\n"
     ]
    }
   ],
   "source": [
    "for i in range(1,5,2) : # 1 부터 5까지 2번씩 건너뛰며 > 시작값과 끝값 그리고 스텝 설정\n",
    "    print(i)"
   ]
  },
  {
   "cell_type": "code",
   "execution_count": 69,
   "id": "af69382a-c08d-4619-ad50-b6f4909d1846",
   "metadata": {},
   "outputs": [
    {
     "name": "stdout",
     "output_type": "stream",
     "text": [
      "0\n",
      "1\n",
      "2\n",
      "3\n",
      "4\n"
     ]
    }
   ],
   "source": [
    "for i in range(5) : # 0부터 4까지 > 시작값 생략가능\n",
    "    print(i)"
   ]
  },
  {
   "cell_type": "code",
   "execution_count": 70,
   "id": "f2df57fc-2b81-4786-8f2f-855692f71931",
   "metadata": {},
   "outputs": [
    {
     "data": {
      "text/plain": [
       "[98, 24, 54, 67, 34]"
      ]
     },
     "execution_count": 70,
     "metadata": {},
     "output_type": "execute_result"
    }
   ],
   "source": [
    "score_list = [98, 24,54, 67,34]\n",
    "score_list"
   ]
  },
  {
   "cell_type": "code",
   "execution_count": 71,
   "id": "5fbc71eb-0089-426f-baa8-8559ba7b23d0",
   "metadata": {},
   "outputs": [
    {
     "data": {
      "text/plain": [
       "5"
      ]
     },
     "execution_count": 71,
     "metadata": {},
     "output_type": "execute_result"
    }
   ],
   "source": [
    "len(score_list)"
   ]
  },
  {
   "cell_type": "code",
   "execution_count": 72,
   "id": "dbdb99f7-139d-48fa-90f4-a9e1278887f0",
   "metadata": {},
   "outputs": [
    {
     "data": {
      "text/plain": [
       "range(0, 5)"
      ]
     },
     "execution_count": 72,
     "metadata": {},
     "output_type": "execute_result"
    }
   ],
   "source": [
    "range(len(score_list))"
   ]
  },
  {
   "cell_type": "code",
   "execution_count": 75,
   "id": "f55b2fad-8a89-489f-84ed-89809d36ccec",
   "metadata": {
    "scrolled": true
   },
   "outputs": [
    {
     "name": "stdout",
     "output_type": "stream",
     "text": [
      "98\n",
      "24\n",
      "54\n",
      "67\n",
      "34\n"
     ]
    }
   ],
   "source": [
    "for i in range(len(score_list)) : # range(len()) : 인덱스 번호로도 for 문 활용이 가능!\n",
    "    print(score_list[i])"
   ]
  }
 ],
 "metadata": {
  "kernelspec": {
   "display_name": "Python 3 (ipykernel)",
   "language": "python",
   "name": "python3"
  },
  "language_info": {
   "codemirror_mode": {
    "name": "ipython",
    "version": 3
   },
   "file_extension": ".py",
   "mimetype": "text/x-python",
   "name": "python",
   "nbconvert_exporter": "python",
   "pygments_lexer": "ipython3",
   "version": "3.11.7"
  }
 },
 "nbformat": 4,
 "nbformat_minor": 5
}
